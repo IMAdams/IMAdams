{
 "cells": [
  {
   "cell_type": "markdown",
   "metadata": {},
   "source": [
    "# Multiple Dispatch"
   ]
  },
  {
   "cell_type": "code",
   "execution_count": 21,
   "metadata": {},
   "outputs": [],
   "source": []
  },
  {
   "cell_type": "code",
   "execution_count": 22,
   "metadata": {},
   "outputs": [
    {
     "data": {
      "text/plain": [
       "6"
      ]
     },
     "metadata": {},
     "output_type": "display_data"
    }
   ],
   "source": [
    "2+2\n",
    "3+3"
   ]
  },
  {
   "cell_type": "code",
   "execution_count": 23,
   "metadata": {},
   "outputs": [
    {
     "data": {
      "text/plain": [
       "my_mult (generic function with 4 methods)"
      ]
     },
     "metadata": {},
     "output_type": "display_data"
    }
   ],
   "source": [
    "using LinearAlgebra\n",
    "\n",
    "function my_mult(a,b) # need to specify a type for each input\n",
    "       @error \"no generic method implemented\" # macro (@) a meta-programming\n",
    "end    \n",
    "# related to class inheritance. in julia, need to inherit absract types. \"Number\" hierarchy includes, ints, floats, \n",
    "\n",
    "function my_mult(a::Number, b::Number)\n",
    "        println(\"Running scalar-scalar method\")\n",
    "        return a*b\n",
    "end        \n",
    "function my_mult(a::Float64,b::Float64) # need to specify a type for each input\n",
    "        println(\"Running scalar-scalar method\") # println has carriage return\n",
    "        return a*b\n",
    "end    \n",
    "function my_mult(a::Float64,b::Matrix{Float64})\n",
    "        println(\"Running scalar-matrix method\")\n",
    "        return a*b\n",
    "end"
   ]
  },
  {
   "cell_type": "code",
   "execution_count": 24,
   "metadata": {},
   "outputs": [
    {
     "name": "stdout",
     "output_type": "stream",
     "text": [
      "Running scalar-scalar method\n",
      "Running scalar-scalar method\n"
     ]
    },
    {
     "name": "stderr",
     "output_type": "stream",
     "text": [
      "┌ Error: no generic method implemented\n",
      "└ @ Main /Users/ianadams/Documents/GitHub/CourseNotes.jl/Users/Ian/multiple_dispatch_ian.ipynb:4\n",
      "┌ Error: no generic method implemented\n",
      "└ @ Main /Users/ianadams/Documents/GitHub/CourseNotes.jl/Users/Ian/multiple_dispatch_ian.ipynb:4\n"
     ]
    },
    {
     "ename": "MethodError",
     "evalue": "MethodError: no method matching my_mult(::Int64)\n\nClosest candidates are:\n  my_mult(::Number, !Matched::Number)\n   @ Main ~/Documents/GitHub/CourseNotes.jl/Users/Ian/multiple_dispatch_ian.ipynb:8\n  my_mult(::Any, !Matched::Any)\n   @ Main ~/Documents/GitHub/CourseNotes.jl/Users/Ian/multiple_dispatch_ian.ipynb:3\n  my_mult(!Matched::Float64, !Matched::Matrix{Float64})\n   @ Main ~/Documents/GitHub/CourseNotes.jl/Users/Ian/multiple_dispatch_ian.ipynb:16\n  ...\n",
     "output_type": "error",
     "traceback": [
      "MethodError: no method matching my_mult(::Int64)\n",
      "\n",
      "Closest candidates are:\n",
      "  my_mult(::Number, !Matched::Number)\n",
      "   @ Main ~/Documents/GitHub/CourseNotes.jl/Users/Ian/multiple_dispatch_ian.ipynb:8\n",
      "  my_mult(::Any, !Matched::Any)\n",
      "   @ Main ~/Documents/GitHub/CourseNotes.jl/Users/Ian/multiple_dispatch_ian.ipynb:3\n",
      "  my_mult(!Matched::Float64, !Matched::Matrix{Float64})\n",
      "   @ Main ~/Documents/GitHub/CourseNotes.jl/Users/Ian/multiple_dispatch_ian.ipynb:16\n",
      "  ...\n",
      "\n",
      "\n",
      "Stacktrace:\n",
      " [1] top-level scope\n",
      "   @ ~/Documents/GitHub/CourseNotes.jl/Users/Ian/multiple_dispatch_ian.ipynb:12"
     ]
    }
   ],
   "source": [
    "my_mult(2,3.0)\n",
    "\n",
    "x=4\n",
    "y=rand(3,3)\n",
    "\n",
    "my_mult(x,y)\n",
    "\n",
    "my_mult(y,y)\n",
    "\n",
    "my_mult(2,3)\n",
    "\n",
    "my_mult(2, 2)"
   ]
  },
  {
   "cell_type": "code",
   "execution_count": 25,
   "metadata": {},
   "outputs": [
    {
     "name": "stdout",
     "output_type": "stream",
     "text": [
      "Running scalar-matrix method\n"
     ]
    },
    {
     "data": {
      "text/plain": [
       "3×3 Matrix{Float64}:\n",
       " 1.92157   2.10835   1.3094\n",
       " 3.98665   0.529209  2.86239\n",
       " 0.362705  2.65206   0.388368"
      ]
     },
     "metadata": {},
     "output_type": "display_data"
    }
   ],
   "source": [
    "x=4.0 # need to have the type correct (4.0 not 4)\n",
    "y=rand(3,3)\n",
    "\n",
    "my_mult(x,y)"
   ]
  },
  {
   "cell_type": "code",
   "execution_count": 26,
   "metadata": {},
   "outputs": [
    {
     "name": "stderr",
     "output_type": "stream",
     "text": [
      "\u001b[32m\u001b[1m   Resolving\u001b[22m\u001b[39m package versions...\n",
      "\u001b[32m\u001b[1m  No Changes\u001b[22m\u001b[39m to `~/Documents/GitHub/CourseNotes.jl/Users/Ian/Project.toml`\n",
      "\u001b[32m\u001b[1m  No Changes\u001b[22m\u001b[39m to `~/Documents/GitHub/CourseNotes.jl/Users/Ian/Manifest.toml`\n"
     ]
    }
   ],
   "source": [
    "# # demo of package add\n",
    "using Pkg\n",
    "Pkg.add(\"CairoMakie\")\n",
    "\n",
    "using CairoMakie"
   ]
  },
  {
   "cell_type": "markdown",
   "metadata": {},
   "source": []
  },
  {
   "cell_type": "markdown",
   "metadata": {},
   "source": [
    "# math \n",
    "\n",
    "my eq. $f(x) = 2*sin(x)"
   ]
  }
 ],
 "metadata": {
  "kernelspec": {
   "display_name": "Julia 1.10.4",
   "language": "julia",
   "name": "julia-1.10"
  },
  "language_info": {
   "file_extension": ".jl",
   "mimetype": "application/julia",
   "name": "julia",
   "version": "1.10.4"
  }
 },
 "nbformat": 4,
 "nbformat_minor": 2
}
